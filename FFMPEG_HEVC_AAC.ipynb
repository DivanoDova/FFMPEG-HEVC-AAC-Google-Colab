{
  "nbformat": 4,
  "nbformat_minor": 0,
  "metadata": {
    "colab": {
      "name": "FFMPEG HEVC AAC",
      "provenance": [],
      "collapsed_sections": [
        "YRPaM-FhRIXi",
        "yakbThfRnJr1",
        "RDHuIkoi6l9a",
        "GahMjYf8miNs",
        "NqB2mnt78bxA",
        "Cqy3vXXOMI06"
      ],
      "machine_shape": "hm",
      "include_colab_link": true
    },
    "kernelspec": {
      "name": "python3",
      "display_name": "Python 3"
    },
    "accelerator": "GPU"
  },
  "cells": [
    {
      "cell_type": "markdown",
      "metadata": {
        "id": "view-in-github",
        "colab_type": "text"
      },
      "source": [
        "<a href=\"https://colab.research.google.com/github/Ptibouc77/FFMPEG-HEVC-AAC-Google-Colab/blob/master/FFMPEG_HEVC_AAC.ipynb\" target=\"_parent\"><img src=\"https://colab.research.google.com/assets/colab-badge.svg\" alt=\"Open In Colab\"/></a>"
      ]
    },
    {
      "cell_type": "markdown",
      "metadata": {
        "id": "YRPaM-FhRIXi"
      },
      "source": [
        "# <img src=\"https://upload.wikimedia.org/wikipedia/commons/thumb/d/da/Google_Drive_logo.png/600px-Google_Drive_logo.png\" height=30px>      ___Mount / Unmount Gdrive!___"
      ]
    },
    {
      "cell_type": "code",
      "metadata": {
        "cellView": "form",
        "id": "U2avD1zRIlWA"
      },
      "source": [
        "#@markdown <br><center><img src='https://upload.wikimedia.org/wikipedia/commons/thumb/d/da/Google_Drive_logo.png/600px-Google_Drive_logo.png' height=\"50\" alt=\"Gdrive logo\"/></center>\n",
        "#@markdown <center><h3>Mount Gdrive to /content/drive</h3></center><br>\n",
        "MODE = \"MOUNT\" #@param [\"MOUNT\", \"UNMOUNT\"]\n",
        "#Mount your Gdrive! \n",
        "from google.colab import drive\n",
        "drive.mount._DEBUG = False\n",
        "if MODE == \"MOUNT\":\n",
        "  drive.mount('/content/drive', force_remount=True)\n",
        "elif MODE == \"UNMOUNT\":\n",
        "  try:\n",
        "    drive.flush_and_unmount()\n",
        "  except ValueError:\n",
        "    pass\n",
        "  get_ipython().system_raw(\"rm -rf /root/.config/Google/DriveFS\")"
      ],
      "execution_count": null,
      "outputs": []
    },
    {
      "cell_type": "code",
      "metadata": {
        "id": "IsQPA4qZD4hK",
        "cellView": "form"
      },
      "source": [
        "#@markdown <h4><b>←</b> ឵឵Click Here to <b>Force Remount</b> your Google Drive</h4>\n",
        "#@markdown <h5><i>(Only use if needed)</i></h5>\n",
        "drive.mount(\"/content/drive\", force_remount=True)"
      ],
      "execution_count": null,
      "outputs": []
    },
    {
      "cell_type": "markdown",
      "metadata": {
        "id": "ercDPZ6CIlVz"
      },
      "source": [
        "# <img src='https://www.vozidea.com/wp-content/uploads/2018/05/ffmpeg-logo-grande.png ' height=\"57\" alt=\"RcloneLab\"/>"
      ]
    },
    {
      "cell_type": "code",
      "metadata": {
        "id": "G3JHGE0Jtzme",
        "cellView": "form"
      },
      "source": [
        "#@markdown <h3>⬅️ Click Here to Install FFmpeg, VCSI & Mkvtoolnix</h3>\n",
        "\n",
        "!apt install ffmpeg\n",
        "!sudo apt-get install mkvtoolnix \n",
        "!pip install vcsi\n",
        "\n",
        "\n",
        "from IPython.display import HTML, clear_output\n",
        "clear_output()\n",
        "print(\"Server Started Successfully\")"
      ],
      "execution_count": null,
      "outputs": []
    },
    {
      "cell_type": "code",
      "metadata": {
        "cellView": "form",
        "id": "CfhZw9ptquNA"
      },
      "source": [
        "#@markdown <h3>⬅️ Click Here to Check GPU</h3>\n",
        "!nvidia-smi -L"
      ],
      "execution_count": null,
      "outputs": []
    },
    {
      "cell_type": "markdown",
      "metadata": {
        "id": "5zC6lWfgBYUu"
      },
      "source": [
        "\n",
        "###» Video to (*HEVC*-AAC)  - Need GPU - Nvidia Telsa P100 or T4"
      ]
    },
    {
      "cell_type": "code",
      "metadata": {
        "id": "GBpIDuDdBYU0",
        "cellView": "form"
      },
      "source": [
        "#@markdown <h3><b>Full Folder Encode :</h3>\n",
        "\n",
        "import os, sys, re\n",
        "\n",
        "input_folder= '/content/drive/My Drive/Videos' #@param {type:\"string\"}\n",
        "output_folder= '/content/drive/My Drive/Videos/HEVC' #@param {type:\"string\"}\n",
        "#@markdown <h3><b>Choose your encode setting :</h5>\n",
        "#@markdown <h><i>main = default | main10 = HEVC 10 Bit</i>\n",
        "encode_setting = \"HEVC (Audio Copy)\" #@param [\"HEVC AAC 160k\", \"HEVC AAC_adtstoasc\", \"HEVC (Audio Copy)\", \"AAC 160k (Video Copy)\"]\n",
        "set_profile = \"main\" #@param [\"main\", \"main10\"]\n",
        "output_file_type = 'mp4' #@param [\"mkv\", \"mp4\"]\n",
        "#@markdown <h3><b>Video quality :</h3>\n",
        "#@markdown <h><i>0 (Best) to 51 (Worst)</i><h>\n",
        "set_cq = '32'#@param {type:\"string\"}\n",
        "set_qmin = '32'#@param {type:\"string\"}\n",
        "set_qmax = '34'#@param {type:\"string\"}\n",
        "my_suffixes = (\".mp4\", \".mov\", \".mkv\", \".avi\", \".ts\", \".flv\", \".webm\", \".wmv\", \".mpg\", \".m4v\", \".f4v\", \".m2ts\", \".mpeg\", \".3gp\", \".MP4\", \".MOV\", \".MKV\", \".AVI\", \".TS\", \".FLV\", \".WEBM\", \".WMV\", \".MPG\", \".M4V\", \".F4V\", \".M2TS\", \".MPEG\", \".3GP\")\n",
        "\n",
        "from pathlib import Path\n",
        "Path(output_folder).mkdir(parents=True, exist_ok=True)\n",
        "\n",
        "if encode_setting == 'HEVC AAC 160k':\n",
        " for filename in os.listdir(input_folder):\n",
        "    if (filename.endswith(my_suffixes)):\n",
        "        cmd = !ffmpeg -v error -stats -hwaccel cuvid -i \"$input_folder/{filename}\" -metadata comment=\"HEVC-CQ$set_cq-AAC\" -c:v hevc_nvenc -preset:v slow -rc vbr -cq $set_cq -qmin $set_qmin -qmax $set_qmax -b:v 0 -profile:v $set_profile -init_qpP 23 -init_qpB 25 -init_qpI 21 -c:a aac -b:a 160k \"$output_folder/{filename.rpartition('.')[0]}.$output_file_type\"\n",
        "\n",
        "if encode_setting == 'HEVC AAC_adtstoasc':\n",
        " for filename in os.listdir(input_folder):\n",
        "    if (filename.endswith(my_suffixes)):\n",
        "        cmd = !ffmpeg -v error -stats -hwaccel cuvid -i \"$input_folder/{filename}\" -metadata comment=\"HEVC-CQ$set_cq-AAC\" -c:v hevc_nvenc -preset:v slow -rc vbr -cq $set_cq -qmin $set_qmin -qmax $set_qmax -b:v 0 -profile:v $set_profile -init_qpP 23 -init_qpB 25 -init_qpI 21 -bsf:a aac_adtstoasc \"$output_folder/{filename.rpartition('.')[0]}.$output_file_type\"\n",
        "\n",
        "if encode_setting == 'HEVC (Audio Copy)':\n",
        " for filename in os.listdir(input_folder):\n",
        "    if (filename.endswith(my_suffixes)):\n",
        "        cmd = !ffmpeg -v error -stats -hwaccel cuvid -i \"$input_folder/{filename}\" -metadata comment=\"HEVC-CQ$set_cq-AAC\" -c:v hevc_nvenc -preset:v slow -rc vbr -cq $set_cq -qmin $set_qmin -qmax $set_qmax -b:v 0 -profile:v $set_profile -init_qpP 23 -init_qpB 25 -init_qpI 21 -c:a copy \"$output_folder/{filename.rpartition('.')[0]}.$output_file_type\"\n",
        "\n",
        "if encode_setting == 'AAC 160k (Video Copy)':\n",
        " for filename in os.listdir(input_folder):\n",
        "    if (filename.endswith(my_suffixes)):\n",
        "        cmd = !ffmpeg -v error -stats -hwaccel cuvid -i \"$input_folder/{filename}\" -metadata comment=\"HEVC-CQ$set_cq-AAC\" -c:v copy -c:a aac -b:a 160k \"$output_folder/{filename.rpartition('.')[0]}.$output_file_type\"\n",
        "                     "
      ],
      "execution_count": null,
      "outputs": []
    },
    {
      "cell_type": "markdown",
      "metadata": {
        "id": "atXNztRIjRK-"
      },
      "source": [
        "\n",
        "###» Video to (*X265*-AAC)  - No GPU"
      ]
    },
    {
      "cell_type": "code",
      "metadata": {
        "id": "DTfmIVpGjRK_",
        "cellView": "form"
      },
      "source": [
        "#@markdown <h3><b>Full Folder Encode :</h3>\n",
        "\n",
        "import os, sys, re\n",
        "\n",
        "input_folder= '/content/drive/My Drive/Videos' #@param {type:\"string\"}\n",
        "output_folder= '/content/drive/My Drive/Videos/X265' #@param {type:\"string\"}\n",
        "#@markdown <h3><b>Choose your encode setting :</h5>\n",
        "#@markdown <h><i>main = default | main10 = HEVC 10 Bit</i>\n",
        "encode_setting = \"X265 (Audio Copy)\" #@param [\"X265 AAC 160k\", \"X265 AAC_adtstoasc\", \"X265 (Audio Copy)\", \"AAC 160k (Video Copy)\"]\n",
        "output_file_type = 'mp4' #@param [\"mkv\", \"mp4\"]\n",
        "#@markdown <h3><b>Video quality :</h3>\n",
        "#@markdown <h><i>0 (Best) to 51 (Worst)</i><h>\n",
        "set_crf ='26'#@param {type:\"string\"}\n",
        "my_suffixes = (\".mp4\", \".mov\", \".mkv\", \".avi\", \".ts\", \".flv\", \".webm\", \".wmv\", \".mpg\", \".m4v\", \".f4v\", \".m2ts\", \".mpeg\", \".3gp\", \".MP4\", \".MOV\", \".MKV\", \".AVI\", \".TS\", \".FLV\", \".WEBM\", \".WMV\", \".MPG\", \".M4V\", \".F4V\", \".M2TS\", \".MPEG\", \".3GP\")\n",
        "\n",
        "from pathlib import Path\n",
        "Path(output_folder).mkdir(parents=True, exist_ok=True)\n",
        "\n",
        "if encode_setting == 'X265 AAC 160k':\n",
        " for filename in os.listdir(input_folder):\n",
        "    if (filename.endswith(my_suffixes)):\n",
        "        cmd = !ffmpeg -v error -stats -i \"$input_folder/{filename}\" -metadata comment=\"X265-CRF$set_crf-AAC\" -c:v libx265 -preset:v slow -crf $set_crf -c:a aac -b:a 160k \"$output_folder/{filename.rpartition('.')[0]}.$output_file_type\"\n",
        "\n",
        "if encode_setting == 'X265 AAC_adtstoasc':\n",
        " for filename in os.listdir(input_folder):\n",
        "    if (filename.endswith(my_suffixes)):\n",
        "        cmd = !ffmpeg -v error -stats -i \"$input_folder/{filename}\" -metadata comment=\"X265-CRF$set_crf-AAC\" -c:v libx265 -preset:v slow -crf $set_crf -bsf:a aac_adtstoasc \"$output_folder/{filename.rpartition('.')[0]}.$output_file_type\"\n",
        "\n",
        "if encode_setting == 'X265 (Audio Copy)':\n",
        " for filename in os.listdir(input_folder):\n",
        "    if (filename.endswith(my_suffixes)):\n",
        "        cmd = !ffmpeg -v error -stats -i \"$input_folder/{filename}\" -metadata comment=\"X265-CRF$set_crf-AAC\" -c:v libx265 -preset:v slow -crf $set_crf -c:a copy \"$output_folder/{filename.rpartition('.')[0]}.$output_file_type\"\n",
        "\n",
        "if encode_setting == 'AAC 160k (Video Copy)':\n",
        " for filename in os.listdir(input_folder):\n",
        "    if (filename.endswith(my_suffixes)):\n",
        "        cmd = !ffmpeg -v error -stats -i \"$input_folder/{filename}\" -metadata comment=\"VideoCopy-AAC\" -c:v copy -c:a aac -b:a 160k \"$output_folder/{filename.rpartition('.')[0]}.$output_file_type\"\n",
        "                     "
      ],
      "execution_count": null,
      "outputs": []
    },
    {
      "cell_type": "markdown",
      "metadata": {
        "id": "yakbThfRnJr1"
      },
      "source": [
        "###» Crop Video to (*HEVC*-AAC) - Need GPU - Nvidia Telsa P100 or T4"
      ]
    },
    {
      "cell_type": "code",
      "metadata": {
        "id": "VKehJoo8MCsK",
        "cellView": "form"
      },
      "source": [
        "#@markdown <h3><b>Full Folder Encode with Crop :</h3>\n",
        "\n",
        "import os, sys, re\n",
        "\n",
        "input_folder= '/content/drive/My Drive/Videos/' #@param {type:\"string\"}\n",
        "output_folder= '/content/drive/My Drive/Videos/HEVC' #@param {type:\"string\"}\n",
        "#@markdown <h3><b>Choose your encode setting :</h5>\n",
        "#@markdown <h><i>main = default | main10 = HEVC 10 Bit</i>\n",
        "encode_setting = \"HEVC (Audio Copy)\" #@param [\"HEVC AAC 160k\", \"HEVC AAC_adtstoasc\", \"HEVC (Audio Copy)\"]\n",
        "set_profile = \"main\" #@param [\"main\", \"main10\"]\n",
        "output_file_type = 'mp4' #@param [\"mkv\", \"mp4\"]\n",
        "#@markdown <h3><b>Video quality :</h3>\n",
        "#@markdown <h><i>0 (Best) to 51 (Worst)</i><h>\n",
        "set_cq = '28'#@param {type:\"string\"}\n",
        "set_qmin = '28'#@param {type:\"string\"}\n",
        "set_qmax = '30'#@param {type:\"string\"}\n",
        "my_suffixes = (\".mp4\", \".mov\", \".mkv\", \".avi\", \".ts\", \".flv\", \".webm\", \".wmv\", \".mpg\", \".m4v\", \".f4v\", \".m2ts\", \".mpeg\", \".3gp\", \".MP4\", \".MOV\", \".MKV\", \".AVI\", \".TS\", \".FLV\", \".WEBM\", \".WMV\", \".MPG\", \".M4V\", \".F4V\", \".M2TS\", \".MPEG\", \".3GP\")\n",
        "#@markdown <h3><b>Crop Settings :</h3>\n",
        "crop_w = '0'#@param {type:\"string\"}\n",
        "crop_h = '0'#@param {type:\"string\"}\n",
        "crop_x = '0'#@param {type:\"string\"}\n",
        "crop_y = '0'#@param {type:\"string\"}\n",
        "\n",
        "from pathlib import Path\n",
        "Path(output_folder).mkdir(parents=True, exist_ok=True)\n",
        "\n",
        "if encode_setting == 'HEVC AAC 160k':\n",
        " for filename in os.listdir(input_folder):\n",
        "    if (filename.endswith(my_suffixes)):\n",
        "        cmd = !ffmpeg -v quiet -stats -hwaccel cuvid -i \"$input_folder/{filename}\" -metadata comment=\"HEVC-CQ$set_cq-AAC\" -c:v hevc_nvenc -preset:v slow -rc vbr -cq $set_cq -qmin $set_qmin -qmax $set_qmax -b:v 0 -profile:v $set_profile -init_qpP 23 -init_qpB 25 -init_qpI 21 -filter:v \"crop=$crop_w:$crop_h:$crop_x:$crop_y\" -c:a aac -b:a 160k \"$output_folder/{filename.rpartition('.')[0]}.$output_file_type\"\n",
        "\n",
        "if encode_setting == 'HEVC AAC_adtstoasc':\n",
        " for filename in os.listdir(input_folder):\n",
        "    if (filename.endswith(my_suffixes)):\n",
        "        cmd = !ffmpeg -v quiet -stats -hwaccel cuvid -i \"$input_folder/{filename}\" -metadata comment=\"HEVC-CQ$set_cq-AAC\" -c:v hevc_nvenc -preset:v slow -rc vbr -cq $set_cq -qmin $set_qmin -qmax $set_qmax -b:v 0 -profile:v $set_profile -init_qpP 23 -init_qpB 25 -init_qpI 21 -filter:v \"crop=$crop_w:$crop_h:$crop_x:$crop_y\" -bsf:a aac_adtstoasc \"$output_folder/{filename.rpartition('.')[0]}.$output_file_type\"\n",
        "\n",
        "if encode_setting == 'HEVC (Audio Copy)':\n",
        " for filename in os.listdir(input_folder):\n",
        "    if (filename.endswith(my_suffixes)):\n",
        "        cmd = !ffmpeg -v quiet -stats -hwaccel cuvid -i \"$input_folder/{filename}\" -vf subtitles="/content/drive/MyDrive/GdriveXbot/newsubtitle.ass"-metadata comment=\"HEVC-CQ$set_cq-AAC\" -c:v hevc_nvenc -preset:v slow -rc vbr -cq $set_cq -qmin $set_qmin -qmax $set_qmax -b:v 0 -profile:v $set_profile -pix_fmt yuv420p10le -init_qpP 23 -init_qpB 25 -init_qpI 21 -filter:v \"crop=$crop_w:$crop_h:$crop_x:$crop_y\" -c:a copy \"$output_folder/{filename.rpartition('.')[0]}.$output_file_type\"\n",
        "                     "
      ],
      "execution_count": null,
      "outputs": []
    },
    {
      "cell_type": "markdown",
      "metadata": {
        "id": "RDHuIkoi6l9a"
      },
      "source": [
        "###» Display Media File Codecs + Metadata"
      ]
    },
    {
      "cell_type": "code",
      "metadata": {
        "id": "Sv8au_RO6WUs",
        "cellView": "form"
      },
      "source": [
        "import os, sys, re\n",
        "\n",
        "media_file_path = \"\" #@param {type:\"string\"}\n",
        "\n",
        "os.environ['inputFile'] = media_file_path\n",
        "\n",
        "!ffmpeg -i \"$inputFile\" -hide_banner"
      ],
      "execution_count": null,
      "outputs": []
    },
    {
      "cell_type": "markdown",
      "metadata": {
        "id": "X4yIG_nqYAoH"
      },
      "source": [
        "> *You can ignore the \"At least one output file must be specified\" error after running this.*\n"
      ]
    },
    {
      "cell_type": "markdown",
      "metadata": {
        "id": "GahMjYf8miNs"
      },
      "source": [
        "###» Generate Thumbnails - Preview from Video "
      ]
    },
    {
      "cell_type": "code",
      "metadata": {
        "cellView": "form",
        "id": "J2u-Rha8miNy"
      },
      "source": [
        "#@markdown <h3>← Click Here to generate thumbnail for selected video</h3>\n",
        "\n",
        "\n",
        "import os, sys, re\n",
        "from IPython.display import Image, display\n",
        "os.makedirs(\"/content/drive/My Drive/Thumbnail\", exist_ok=True)\n",
        "\n",
        "video_file_path = \"\" #@param {type:\"string\"}\n",
        "output_file_type = 'png' #@param [\"png\", \"jpg\"]\n",
        "creation_engine = 'vcsi' #@param [\"ffmpeg\", \"vcsi\"]\n",
        "output_path = 'same folder' #@param [\"same folder\", \"My Drive/Thumbnail\"]\n",
        "\n",
        "output_file_path = re.search(\"^[\\/].+\\/\", video_file_path)\n",
        "output_file_path_raw = output_file_path.group(0)\n",
        "delsplit = re.search(\"\\/(?:.(?!\\/))+$\", video_file_path)\n",
        "filename = re.sub(\"^[\\/]\", \"\", delsplit.group(0))\n",
        "filename_raw = re.sub(\".{4}$\", \"\", filename)\n",
        "file_extension = re.search(\".{3}$\", filename)\n",
        "file_extension_raw = file_extension.group(0)\n",
        "\n",
        "os.environ['inputFile'] = video_file_path\n",
        "os.environ['outputPath'] = output_file_path_raw\n",
        "os.environ['outputExtension'] = output_file_type\n",
        "os.environ['fileName'] = filename_raw\n",
        "os.environ['fileExtension'] = file_extension_raw\n",
        "\n",
        "if output_path == \"same folder\":\n",
        "  if creation_engine == 'ffmpeg':\n",
        "   !ffmpeg -hide_banner -i \"$inputFile\" -vframes 1 -q:v 0 -vf \"select=not(mod(n\\,200)),scale=-1:480,tile=3x2\" -an \"$outputPath\"/\"$fileName\"_thumbnails.\"$outputExtension\"\n",
        "\n",
        "if output_path == \"same folder\":\n",
        "  if creation_engine == 'vcsi':\n",
        "   !vcsi   \"$inputFile\" -o \"$outputPath\"/\"$fileName\"_thumbnails.\"$outputExtension\"\n",
        "\n",
        "if not output_path == \"same folder\":\n",
        "   !vcsi   \"$inputFile\" -o \"/content/drive/My Drive/Thumbnail\"/\"$fileName\"_thumbnails.\"$outputExtension\"\n"
      ],
      "execution_count": null,
      "outputs": []
    },
    {
      "cell_type": "code",
      "metadata": {
        "id": "7KnkVIMRztKl",
        "cellView": "form"
      },
      "source": [
        "#@markdown <h3>← Click Here to generate thumbnail for all video in input folder path</h3>\n",
        "\n",
        "import os, sys, re\n",
        "from IPython.display import Image, display\n",
        "os.makedirs(\"/content/drive/My Drive/Thumbnail\", exist_ok=True)\n",
        "\n",
        "video_files_path = \"\" #@param {type:\"string\"}\n",
        "output_path = 'same folder' #@param [\"same folder\", \"My Drive/Thumbnail\"]\n",
        "grid = 'default' #@param [\"default\", \"5x5\", \"7x7\", \"10x10\"]\n",
        "\n",
        "output_file_type = 'png' #@param [\"png\", \"jpg\"]\n",
        "timestamp = False #@param {type:\"boolean\"}\n",
        "\n",
        "if timestamp == False:\n",
        " if grid == 'default':\n",
        "  if output_path == \"same folder\":\n",
        "   !vcsi  \"$video_files_path\" -o \"$video_files_path\" -f \"$output_file_type\"\n",
        "\n",
        "  if not output_path == \"same folder\":\n",
        "   !vcsi   \"$video_files_path\" -o \"/content/drive/My Drive/Thumbnail/\" -f \"$output_file_type\"\n",
        "\n",
        " if grid == '5x5':\n",
        "  if output_path == \"same folder\":\n",
        "   !vcsi -g 5x5   \"$video_files_path\" -o \"$video_files_path\" -f \"$output_file_type\"\n",
        "\n",
        "  if not output_path == \"same folder\":\n",
        "   !vcsi -g 5x5   \"$video_files_path\" -o \"/content/drive/My Drive/Thumbnail/\" -f \"$output_file_type\"\n",
        "\n",
        " if grid == '7x7':\n",
        "  if output_path == \"same folder\":\n",
        "   !vcsi -g 7x7   \"$video_files_path\" -o \"$video_files_path\" -f \"$output_file_type\"\n",
        "\n",
        "  if not output_path == \"same folder\":\n",
        "   !vcsi -g 7x7   \"$video_files_path\" -o \"/content/drive/My Drive/Thumbnail/\" -f \"$output_file_type\"\n",
        "\n",
        " if grid == '10x10':\n",
        "  if output_path == \"same folder\":\n",
        "   !vcsi -g 10x10   \"$video_files_path\" -o \"$video_files_path\" -f \"$output_file_type\"\n",
        "\n",
        "  if not output_path == \"same folder\":\n",
        "   !vcsi -g 10x10   \"$video_files_path\" -o \"/content/drive/My Drive/Thumbnail/\" -f \"$output_file_type\"\n",
        "\n",
        "else:\n",
        " if grid == 'default':\n",
        "  if output_path == \"same folder\":\n",
        "   !vcsi  -t \"$video_files_path\" -o \"$video_files_path\" -f \"$output_file_type\"\n",
        "\n",
        "  if not output_path == \"same folder\":\n",
        "   !vcsi  -t \"$video_files_path\" -o \"/content/drive/My Drive/Thumbnail/\" -f \"$output_file_type\"\n",
        "\n",
        " if grid == '5x5':\n",
        "  if output_path == \"same folder\":\n",
        "   !vcsi -t -g 5x5   \"$video_files_path\" -o \"$video_files_path\" -f \"$output_file_type\"\n",
        "\n",
        "  if not output_path == \"same folder\":\n",
        "   !vcsi -t -g 5x5   \"$video_files_path\" -o \"/content/drive/My Drive/Thumbnail/\" -f \"$output_file_type\"\n",
        "\n",
        " if grid == '7x7':\n",
        "  if output_path == \"same folder\":\n",
        "   !vcsi -t -g 7x7   \"$video_files_path\" -o \"$video_files_path\" -f \"$output_file_type\"\n",
        "\n",
        "  if not output_path == \"same folder\":\n",
        "   !vcsi -t -g 7x7   \"$video_files_path\" -o \"/content/drive/My Drive/Thumbnail/\" -f \"$output_file_type\"\n",
        "\n",
        " if grid == '10x10':\n",
        "  if output_path == \"same folder\":\n",
        "   !vcsi -t -g 10x10   \"$video_files_path\" -o \"$video_files_path\" -f \"$output_file_type\"\n",
        "\n",
        "  if not output_path == \"same folder\":\n",
        "   !vcsi -t -g 10x10   \"$video_files_path\" -o \"/content/drive/My Drive/Thumbnail/\" -f \"$output_file_type\"\n",
        "\n",
        " \n",
        "\n"
      ],
      "execution_count": null,
      "outputs": []
    },
    {
      "cell_type": "markdown",
      "metadata": {
        "id": "NqB2mnt78bxA"
      },
      "source": [
        "##### This will create a 3x2 layout in the same directory as your video file.\n",
        "* [*Example*](https://yuju.pw/y/39i2.png) *of output image*"
      ]
    },
    {
      "cell_type": "markdown",
      "metadata": {
        "id": "Cqy3vXXOMI06"
      },
      "source": [
        "# ✦ *Colab Still Alive Console Script:*\n",
        "<p><font size=2px ><font color=\"red\"> Tip - Set a javascript interval to click on the connect button every 60 seconds. Open developer-settings (in your web-browser) with Ctrl+Shift+I then click on console tab and type this on the console prompt. (for mac press Option+Command+I)</font></p><b>Copy script in hidden cell and paste at your browser console !!! DO NOT CLOSE YOUR BROWSER IN ORDER TO STILL RUNNING SCRIPT</b>"
      ]
    },
    {
      "cell_type": "markdown",
      "metadata": {
        "id": "3Z8cK8h2Avbv"
      },
      "source": [
        "<code>function ClickConnect(){\n",
        "console.log(\"Working\"); \n",
        "document.querySelector(\"colab-connect-button\").click() \n",
        "}setInterval(ClickConnect,6000)</code>"
      ]
    },
    {
      "cell_type": "code",
      "metadata": {
        "id": "OH3xVkwWmPYL",
        "cellView": "form"
      },
      "source": [
        "#@title ← ឵឵ ឵Run this cell to crash your current Runtime if you're low on memory\n",
        "#@markdown <i>After crashing, you'll have access to all the preoccupied storage</i>\n",
        "some_str = ' ' * 5120000000000"
      ],
      "execution_count": null,
      "outputs": []
    }
  ]
}
